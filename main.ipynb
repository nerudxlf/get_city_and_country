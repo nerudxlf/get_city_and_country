{
  "nbformat": 4,
  "nbformat_minor": 0,
  "metadata": {
    "colab": {
      "name": "main.ipynb",
      "provenance": [],
      "authorship_tag": "ABX9TyNZhiV8q5L0t65wgFtOwNBL",
      "include_colab_link": true
    },
    "kernelspec": {
      "name": "python3",
      "display_name": "Python 3"
    }
  },
  "cells": [
    {
      "cell_type": "markdown",
      "metadata": {
        "id": "view-in-github",
        "colab_type": "text"
      },
      "source": [
        "<a href=\"https://colab.research.google.com/github/nerudxlf/get_city_and_country/blob/main/main.ipynb\" target=\"_parent\"><img src=\"https://colab.research.google.com/assets/colab-badge.svg\" alt=\"Open In Colab\"/></a>"
      ]
    },
    {
      "cell_type": "code",
      "metadata": {
        "id": "PMWVODy4f7oB"
      },
      "source": [
        "import re\n",
        "\n",
        "import pandas as pd\n",
        "\n",
        "from google.colab import files\n",
        "\n",
        "files.upload()"
      ],
      "execution_count": null,
      "outputs": []
    },
    {
      "cell_type": "code",
      "metadata": {
        "id": "PlgYwYMNgLhM"
      },
      "source": [
        "def get_name(split_list: list) -> str:\n",
        "  \"\"\"\n",
        "  Функция для получения имени из строки содержащей Имя,...,город,...,страна\n",
        "  param: split_list(list): \n",
        "  return: result_return(str): Имя автора\n",
        "  \"\"\"\n",
        "  return split_list[0]\n",
        "\n",
        "def get_city(split_list: list) -> str:\n",
        "  \"\"\"\n",
        "  Функция для получения города из строки содержащей Имя,...,город,...,страна\n",
        "  Из строки удаляем лишние символы и получаем город\n",
        "  param: split_list(list):\n",
        "  return: result_return(str): город\n",
        "  \"\"\"\n",
        "  try:\n",
        "    if int(split_list[-2][0]) or split_list[-2][0] == \"0\":\n",
        "      result_return = re.sub(r\"\\d+\", \"\", split_list[-3], flags=re.UNICODE)\n",
        "      return result_return\n",
        "  except ValueError:\n",
        "    pass\n",
        "  result_return = re.sub(r\"\\d+\", \"\", split_list[-2], flags=re.UNICODE)\n",
        "  return result_return\n",
        "\n",
        "def get_country(split_list: list) -> str:\n",
        "  \"\"\"\n",
        "  Функция для получения города из строки содержащей Имя,...,город,...,страна\n",
        "  Страна всегда последняя в строке\n",
        "  param: split_list(list):\n",
        "  return: result_return(str): страна\n",
        "  \"\"\"\n",
        "  return split_list[-1]"
      ],
      "execution_count": null,
      "outputs": []
    },
    {
      "cell_type": "code",
      "metadata": {
        "id": "mclxe2VvgTN8"
      },
      "source": [
        "data_df = pd.read_csv(\"ScopusConferencies.csv\", sep=',', error_bad_lines=False)\n",
        "data_list = data_df[\"Авторы организаций\"].to_list()\n",
        "data_list_split = []\n",
        "name_list = []\n",
        "city_list = []\n",
        "country_list = []\n",
        "\n",
        "for elem in data_list:\n",
        "  try:\n",
        "    for item in elem.split(\"; \"):\n",
        "      data_list_split.append(item)\n",
        "  except AttributeError:\n",
        "    pass\n",
        "\n",
        "for item in data_list_split:\n",
        "  item_split = item.split(\", \")\n",
        "  name_list.append(get_name(item_split))\n",
        "  city_list.append(get_city(item_split))\n",
        "  country_list.append(get_country(item_split))\n",
        "\n",
        "result_df = pd.DataFrame({\"Author\": name_list, \"City\": city_list, \"Country\": country_list})\n",
        "result_df.to_excel(\"result_new.xlsx\", index=False)"
      ],
      "execution_count": null,
      "outputs": []
    }
  ]
}