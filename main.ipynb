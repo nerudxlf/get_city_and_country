{
  "nbformat": 4,
  "nbformat_minor": 0,
  "metadata": {
    "colab": {
      "name": "main.ipynb",
      "provenance": [],
      "authorship_tag": "ABX9TyPu31jLsw1DCI5zyWjGCNtL",
      "include_colab_link": true
    },
    "kernelspec": {
      "name": "python3",
      "display_name": "Python 3"
    }
  },
  "cells": [
    {
      "cell_type": "markdown",
      "metadata": {
        "id": "view-in-github",
        "colab_type": "text"
      },
      "source": [
        "<a href=\"https://colab.research.google.com/github/nerudxlf/get_city_and_country/blob/main/main.ipynb\" target=\"_parent\"><img src=\"https://colab.research.google.com/assets/colab-badge.svg\" alt=\"Open In Colab\"/></a>"
      ]
    },
    {
      "cell_type": "code",
      "metadata": {
        "id": "PMWVODy4f7oB"
      },
      "source": [
        "import re\r\n",
        "\r\n",
        "import pandas as pd\r\n",
        "\r\n",
        "from google.colab import files\r\n",
        "\r\n",
        "files.upload()"
      ],
      "execution_count": null,
      "outputs": []
    },
    {
      "cell_type": "code",
      "metadata": {
        "id": "PlgYwYMNgLhM"
      },
      "source": [
        "def get_name(split_list: list) -> str:\r\n",
        "  return split_list[0]\r\n",
        "\r\n",
        "def get_city(split_list: list) -> str:\r\n",
        "  try:\r\n",
        "    if int(split_list[-2][0]) or split_list[-2][0] == \"0\":\r\n",
        "      result_return = re.sub(r\"\\d+\", \"\", split_list[-3], flags=re.UNICODE)\r\n",
        "      return result_return\r\n",
        "  except ValueError:\r\n",
        "    pass\r\n",
        "  result_return = re.sub(r\"\\d+\", \"\", split_list[-2], flags=re.UNICODE)\r\n",
        "  return result_return\r\n",
        "\r\n",
        "def get_country(split_list: list) -> str:\r\n",
        "  return split_list[-1]"
      ],
      "execution_count": null,
      "outputs": []
    },
    {
      "cell_type": "code",
      "metadata": {
        "id": "mclxe2VvgTN8"
      },
      "source": [
        "data_df = pd.read_csv(\"ScopusConferencies.csv\", sep=',', error_bad_lines=False)\r\n",
        "data_list = data_df[\"Авторы организаций\"].to_list()\r\n",
        "data_list_split = []\r\n",
        "name_list = []\r\n",
        "city_list = []\r\n",
        "country_list = []\r\n",
        "\r\n",
        "for elem in data_list:\r\n",
        "  try:\r\n",
        "    for item in elem.split(\"; \"):\r\n",
        "      data_list_split.append(item)\r\n",
        "  except AttributeError:\r\n",
        "    pass\r\n",
        "\r\n",
        "for item in data_list_split:\r\n",
        "  item_split = item.split(\", \")\r\n",
        "  name_list.append(get_name(item_split))\r\n",
        "  name_list.append(get_name(item_split))\r\n",
        "  country_list.append(get_country(item_split))\r\n",
        "\r\n",
        "result_df = pd.DataFrame({\"Author\": name_list, \"City\": city_list, \"Country\": country_list})\r\n",
        "result_df.to_excel(\"result_new.xlsx\", index=False)"
      ],
      "execution_count": null,
      "outputs": []
    }
  ]
}